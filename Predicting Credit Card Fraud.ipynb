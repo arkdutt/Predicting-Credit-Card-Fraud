{
 "cells": [
  {
   "cell_type": "markdown",
   "id": "f9de0c98-15e8-404e-8fa2-485c6144117c",
   "metadata": {},
   "source": [
    "<h1>Predicting Credit Card Fraud</h1>"
   ]
  },
  {
   "cell_type": "code",
   "execution_count": 101,
   "id": "f2379421",
   "metadata": {},
   "outputs": [],
   "source": [
    "import pandas as pd\n",
    "import numpy as np\n",
    "import matplotlib.pyplot as plt\n",
    "import seaborn as sns\n",
    "%matplotlib inline\n",
    "pd.set_option('display.max_columns', None)\n",
    "from sklearn.model_selection import train_test_split\n",
    "from sklearn.preprocessing import StandardScaler\n",
    "from sklearn.linear_model import LogisticRegression\n",
    "from sklearn.metrics import classification_report, confusion_matrix, accuracy_score"
   ]
  },
  {
   "cell_type": "code",
   "execution_count": 53,
   "id": "f086671b",
   "metadata": {},
   "outputs": [
    {
     "data": {
      "text/html": [
       "<div>\n",
       "<style scoped>\n",
       "    .dataframe tbody tr th:only-of-type {\n",
       "        vertical-align: middle;\n",
       "    }\n",
       "\n",
       "    .dataframe tbody tr th {\n",
       "        vertical-align: top;\n",
       "    }\n",
       "\n",
       "    .dataframe thead th {\n",
       "        text-align: right;\n",
       "    }\n",
       "</style>\n",
       "<table border=\"1\" class=\"dataframe\">\n",
       "  <thead>\n",
       "    <tr style=\"text-align: right;\">\n",
       "      <th></th>\n",
       "      <th>Time</th>\n",
       "      <th>V1</th>\n",
       "      <th>V2</th>\n",
       "      <th>V3</th>\n",
       "      <th>V4</th>\n",
       "      <th>V5</th>\n",
       "      <th>V6</th>\n",
       "      <th>V7</th>\n",
       "      <th>V8</th>\n",
       "      <th>V9</th>\n",
       "      <th>V10</th>\n",
       "      <th>V11</th>\n",
       "      <th>V12</th>\n",
       "      <th>V13</th>\n",
       "      <th>V14</th>\n",
       "      <th>V15</th>\n",
       "      <th>V16</th>\n",
       "      <th>V17</th>\n",
       "      <th>V18</th>\n",
       "      <th>V19</th>\n",
       "      <th>V20</th>\n",
       "      <th>V21</th>\n",
       "      <th>V22</th>\n",
       "      <th>V23</th>\n",
       "      <th>V24</th>\n",
       "      <th>V25</th>\n",
       "      <th>V26</th>\n",
       "      <th>V27</th>\n",
       "      <th>V28</th>\n",
       "      <th>Amount</th>\n",
       "      <th>Class</th>\n",
       "    </tr>\n",
       "  </thead>\n",
       "  <tbody>\n",
       "    <tr>\n",
       "      <th>0</th>\n",
       "      <td>0.0</td>\n",
       "      <td>-1.359807</td>\n",
       "      <td>-0.072781</td>\n",
       "      <td>2.536347</td>\n",
       "      <td>1.378155</td>\n",
       "      <td>-0.338321</td>\n",
       "      <td>0.462388</td>\n",
       "      <td>0.239599</td>\n",
       "      <td>0.098698</td>\n",
       "      <td>0.363787</td>\n",
       "      <td>0.090794</td>\n",
       "      <td>-0.551600</td>\n",
       "      <td>-0.617801</td>\n",
       "      <td>-0.991390</td>\n",
       "      <td>-0.311169</td>\n",
       "      <td>1.468177</td>\n",
       "      <td>-0.470401</td>\n",
       "      <td>0.207971</td>\n",
       "      <td>0.025791</td>\n",
       "      <td>0.403993</td>\n",
       "      <td>0.251412</td>\n",
       "      <td>-0.018307</td>\n",
       "      <td>0.277838</td>\n",
       "      <td>-0.110474</td>\n",
       "      <td>0.066928</td>\n",
       "      <td>0.128539</td>\n",
       "      <td>-0.189115</td>\n",
       "      <td>0.133558</td>\n",
       "      <td>-0.021053</td>\n",
       "      <td>149.62</td>\n",
       "      <td>0</td>\n",
       "    </tr>\n",
       "    <tr>\n",
       "      <th>1</th>\n",
       "      <td>0.0</td>\n",
       "      <td>1.191857</td>\n",
       "      <td>0.266151</td>\n",
       "      <td>0.166480</td>\n",
       "      <td>0.448154</td>\n",
       "      <td>0.060018</td>\n",
       "      <td>-0.082361</td>\n",
       "      <td>-0.078803</td>\n",
       "      <td>0.085102</td>\n",
       "      <td>-0.255425</td>\n",
       "      <td>-0.166974</td>\n",
       "      <td>1.612727</td>\n",
       "      <td>1.065235</td>\n",
       "      <td>0.489095</td>\n",
       "      <td>-0.143772</td>\n",
       "      <td>0.635558</td>\n",
       "      <td>0.463917</td>\n",
       "      <td>-0.114805</td>\n",
       "      <td>-0.183361</td>\n",
       "      <td>-0.145783</td>\n",
       "      <td>-0.069083</td>\n",
       "      <td>-0.225775</td>\n",
       "      <td>-0.638672</td>\n",
       "      <td>0.101288</td>\n",
       "      <td>-0.339846</td>\n",
       "      <td>0.167170</td>\n",
       "      <td>0.125895</td>\n",
       "      <td>-0.008983</td>\n",
       "      <td>0.014724</td>\n",
       "      <td>2.69</td>\n",
       "      <td>0</td>\n",
       "    </tr>\n",
       "    <tr>\n",
       "      <th>2</th>\n",
       "      <td>1.0</td>\n",
       "      <td>-1.358354</td>\n",
       "      <td>-1.340163</td>\n",
       "      <td>1.773209</td>\n",
       "      <td>0.379780</td>\n",
       "      <td>-0.503198</td>\n",
       "      <td>1.800499</td>\n",
       "      <td>0.791461</td>\n",
       "      <td>0.247676</td>\n",
       "      <td>-1.514654</td>\n",
       "      <td>0.207643</td>\n",
       "      <td>0.624501</td>\n",
       "      <td>0.066084</td>\n",
       "      <td>0.717293</td>\n",
       "      <td>-0.165946</td>\n",
       "      <td>2.345865</td>\n",
       "      <td>-2.890083</td>\n",
       "      <td>1.109969</td>\n",
       "      <td>-0.121359</td>\n",
       "      <td>-2.261857</td>\n",
       "      <td>0.524980</td>\n",
       "      <td>0.247998</td>\n",
       "      <td>0.771679</td>\n",
       "      <td>0.909412</td>\n",
       "      <td>-0.689281</td>\n",
       "      <td>-0.327642</td>\n",
       "      <td>-0.139097</td>\n",
       "      <td>-0.055353</td>\n",
       "      <td>-0.059752</td>\n",
       "      <td>378.66</td>\n",
       "      <td>0</td>\n",
       "    </tr>\n",
       "    <tr>\n",
       "      <th>3</th>\n",
       "      <td>1.0</td>\n",
       "      <td>-0.966272</td>\n",
       "      <td>-0.185226</td>\n",
       "      <td>1.792993</td>\n",
       "      <td>-0.863291</td>\n",
       "      <td>-0.010309</td>\n",
       "      <td>1.247203</td>\n",
       "      <td>0.237609</td>\n",
       "      <td>0.377436</td>\n",
       "      <td>-1.387024</td>\n",
       "      <td>-0.054952</td>\n",
       "      <td>-0.226487</td>\n",
       "      <td>0.178228</td>\n",
       "      <td>0.507757</td>\n",
       "      <td>-0.287924</td>\n",
       "      <td>-0.631418</td>\n",
       "      <td>-1.059647</td>\n",
       "      <td>-0.684093</td>\n",
       "      <td>1.965775</td>\n",
       "      <td>-1.232622</td>\n",
       "      <td>-0.208038</td>\n",
       "      <td>-0.108300</td>\n",
       "      <td>0.005274</td>\n",
       "      <td>-0.190321</td>\n",
       "      <td>-1.175575</td>\n",
       "      <td>0.647376</td>\n",
       "      <td>-0.221929</td>\n",
       "      <td>0.062723</td>\n",
       "      <td>0.061458</td>\n",
       "      <td>123.50</td>\n",
       "      <td>0</td>\n",
       "    </tr>\n",
       "    <tr>\n",
       "      <th>4</th>\n",
       "      <td>2.0</td>\n",
       "      <td>-1.158233</td>\n",
       "      <td>0.877737</td>\n",
       "      <td>1.548718</td>\n",
       "      <td>0.403034</td>\n",
       "      <td>-0.407193</td>\n",
       "      <td>0.095921</td>\n",
       "      <td>0.592941</td>\n",
       "      <td>-0.270533</td>\n",
       "      <td>0.817739</td>\n",
       "      <td>0.753074</td>\n",
       "      <td>-0.822843</td>\n",
       "      <td>0.538196</td>\n",
       "      <td>1.345852</td>\n",
       "      <td>-1.119670</td>\n",
       "      <td>0.175121</td>\n",
       "      <td>-0.451449</td>\n",
       "      <td>-0.237033</td>\n",
       "      <td>-0.038195</td>\n",
       "      <td>0.803487</td>\n",
       "      <td>0.408542</td>\n",
       "      <td>-0.009431</td>\n",
       "      <td>0.798278</td>\n",
       "      <td>-0.137458</td>\n",
       "      <td>0.141267</td>\n",
       "      <td>-0.206010</td>\n",
       "      <td>0.502292</td>\n",
       "      <td>0.219422</td>\n",
       "      <td>0.215153</td>\n",
       "      <td>69.99</td>\n",
       "      <td>0</td>\n",
       "    </tr>\n",
       "  </tbody>\n",
       "</table>\n",
       "</div>"
      ],
      "text/plain": [
       "   Time        V1        V2        V3        V4        V5        V6        V7  \\\n",
       "0   0.0 -1.359807 -0.072781  2.536347  1.378155 -0.338321  0.462388  0.239599   \n",
       "1   0.0  1.191857  0.266151  0.166480  0.448154  0.060018 -0.082361 -0.078803   \n",
       "2   1.0 -1.358354 -1.340163  1.773209  0.379780 -0.503198  1.800499  0.791461   \n",
       "3   1.0 -0.966272 -0.185226  1.792993 -0.863291 -0.010309  1.247203  0.237609   \n",
       "4   2.0 -1.158233  0.877737  1.548718  0.403034 -0.407193  0.095921  0.592941   \n",
       "\n",
       "         V8        V9       V10       V11       V12       V13       V14  \\\n",
       "0  0.098698  0.363787  0.090794 -0.551600 -0.617801 -0.991390 -0.311169   \n",
       "1  0.085102 -0.255425 -0.166974  1.612727  1.065235  0.489095 -0.143772   \n",
       "2  0.247676 -1.514654  0.207643  0.624501  0.066084  0.717293 -0.165946   \n",
       "3  0.377436 -1.387024 -0.054952 -0.226487  0.178228  0.507757 -0.287924   \n",
       "4 -0.270533  0.817739  0.753074 -0.822843  0.538196  1.345852 -1.119670   \n",
       "\n",
       "        V15       V16       V17       V18       V19       V20       V21  \\\n",
       "0  1.468177 -0.470401  0.207971  0.025791  0.403993  0.251412 -0.018307   \n",
       "1  0.635558  0.463917 -0.114805 -0.183361 -0.145783 -0.069083 -0.225775   \n",
       "2  2.345865 -2.890083  1.109969 -0.121359 -2.261857  0.524980  0.247998   \n",
       "3 -0.631418 -1.059647 -0.684093  1.965775 -1.232622 -0.208038 -0.108300   \n",
       "4  0.175121 -0.451449 -0.237033 -0.038195  0.803487  0.408542 -0.009431   \n",
       "\n",
       "        V22       V23       V24       V25       V26       V27       V28  \\\n",
       "0  0.277838 -0.110474  0.066928  0.128539 -0.189115  0.133558 -0.021053   \n",
       "1 -0.638672  0.101288 -0.339846  0.167170  0.125895 -0.008983  0.014724   \n",
       "2  0.771679  0.909412 -0.689281 -0.327642 -0.139097 -0.055353 -0.059752   \n",
       "3  0.005274 -0.190321 -1.175575  0.647376 -0.221929  0.062723  0.061458   \n",
       "4  0.798278 -0.137458  0.141267 -0.206010  0.502292  0.219422  0.215153   \n",
       "\n",
       "   Amount  Class  \n",
       "0  149.62      0  \n",
       "1    2.69      0  \n",
       "2  378.66      0  \n",
       "3  123.50      0  \n",
       "4   69.99      0  "
      ]
     },
     "execution_count": 53,
     "metadata": {},
     "output_type": "execute_result"
    }
   ],
   "source": [
    "df = pd.read_csv('./creditcard.csv')\n",
    "df.head()"
   ]
  },
  {
   "cell_type": "code",
   "execution_count": 54,
   "id": "5ab4a919-3b89-4afc-9347-d9652f589649",
   "metadata": {},
   "outputs": [
    {
     "name": "stdout",
     "output_type": "stream",
     "text": [
      "<class 'pandas.core.frame.DataFrame'>\n",
      "RangeIndex: 284807 entries, 0 to 284806\n",
      "Data columns (total 31 columns):\n",
      " #   Column  Non-Null Count   Dtype  \n",
      "---  ------  --------------   -----  \n",
      " 0   Time    284807 non-null  float64\n",
      " 1   V1      284807 non-null  float64\n",
      " 2   V2      284807 non-null  float64\n",
      " 3   V3      284807 non-null  float64\n",
      " 4   V4      284807 non-null  float64\n",
      " 5   V5      284807 non-null  float64\n",
      " 6   V6      284807 non-null  float64\n",
      " 7   V7      284807 non-null  float64\n",
      " 8   V8      284807 non-null  float64\n",
      " 9   V9      284807 non-null  float64\n",
      " 10  V10     284807 non-null  float64\n",
      " 11  V11     284807 non-null  float64\n",
      " 12  V12     284807 non-null  float64\n",
      " 13  V13     284807 non-null  float64\n",
      " 14  V14     284807 non-null  float64\n",
      " 15  V15     284807 non-null  float64\n",
      " 16  V16     284807 non-null  float64\n",
      " 17  V17     284807 non-null  float64\n",
      " 18  V18     284807 non-null  float64\n",
      " 19  V19     284807 non-null  float64\n",
      " 20  V20     284807 non-null  float64\n",
      " 21  V21     284807 non-null  float64\n",
      " 22  V22     284807 non-null  float64\n",
      " 23  V23     284807 non-null  float64\n",
      " 24  V24     284807 non-null  float64\n",
      " 25  V25     284807 non-null  float64\n",
      " 26  V26     284807 non-null  float64\n",
      " 27  V27     284807 non-null  float64\n",
      " 28  V28     284807 non-null  float64\n",
      " 29  Amount  284807 non-null  float64\n",
      " 30  Class   284807 non-null  int64  \n",
      "dtypes: float64(30), int64(1)\n",
      "memory usage: 67.4 MB\n"
     ]
    }
   ],
   "source": [
    "df.info()"
   ]
  },
  {
   "cell_type": "code",
   "execution_count": 55,
   "id": "33a97556-338a-4693-9a4e-fcc7a702cbb5",
   "metadata": {},
   "outputs": [
    {
     "data": {
      "text/plain": [
       "Class\n",
       "0    284315\n",
       "1       492\n",
       "Name: count, dtype: int64"
      ]
     },
     "execution_count": 55,
     "metadata": {},
     "output_type": "execute_result"
    }
   ],
   "source": [
    "df['Class'].value_counts()"
   ]
  },
  {
   "cell_type": "markdown",
   "id": "a26adc1d-635f-46f9-9bbd-c464bae7c7de",
   "metadata": {},
   "source": [
    "<p>The data above is not balanced suggesting there are unequal number of fraudulent transactions and non-fraudulent ones. The fraudulent transactions are represented as 1 in Class feature, and non-fraudulent transactions are represented as 0. We can also show the distribution using a histoplot below:</p>"
   ]
  },
  {
   "cell_type": "code",
   "execution_count": 56,
   "id": "f22f9a5a-1630-49c5-896e-d32587bf5907",
   "metadata": {},
   "outputs": [
    {
     "data": {
      "image/png": "[encoded data removed]",
      "text/plain": [
       "<Figure size 640x480 with 1 Axes>"
      ]
     },
     "metadata": {},
     "output_type": "display_data"
    }
   ],
   "source": [
    "sns.histplot(df['Class'])\n",
    "plt.yscale('log')\n",
    "plt.show()"
   ]
  },
  {
   "cell_type": "code",
   "execution_count": 57,
   "id": "c9220090-1564-41b9-9e02-001031a964b4",
   "metadata": {},
   "outputs": [
    {
     "data": {
      "text/plain": [
       "Class\n",
       "0    25102462.04\n",
       "1       60127.97\n",
       "Name: Amount, dtype: float64"
      ]
     },
     "execution_count": 57,
     "metadata": {},
     "output_type": "execute_result"
    }
   ],
   "source": [
    "df.groupby('Class')['Amount'].sum()"
   ]
  },
  {
   "cell_type": "code",
   "execution_count": 58,
   "id": "da974207-458f-4b61-9c02-c06d1be1ed4b",
   "metadata": {},
   "outputs": [],
   "source": [
    "dummy_x = df.drop(columns = 'Class', axis = 1)\n",
    "y_scaled = df['Class']"
   ]
  },
  {
   "cell_type": "markdown",
   "id": "11d8a9c7-d256-4d37-9119-8b4d8bcc0e80",
   "metadata": {},
   "source": [
    "<h3>Performing feature scaling</h3>"
   ]
  },
  {
   "cell_type": "code",
   "execution_count": 59,
   "id": "815b53a4-ce0e-43f8-b4f7-78fcfc0feaee",
   "metadata": {},
   "outputs": [],
   "source": [
    "scaler = StandardScaler()\n",
    "x_scaled = scaler.fit_transform(dummy_x)"
   ]
  },
  {
   "cell_type": "markdown",
   "id": "f896b668-4a6a-45aa-8ab2-e4a39154fd8c",
   "metadata": {},
   "source": [
    "<h3>Training and Splitting the Data</h3>"
   ]
  },
  {
   "cell_type": "code",
   "execution_count": 100,
   "id": "8a963656-6f74-4269-ab4a-ba846a8d32cb",
   "metadata": {},
   "outputs": [
    {
     "name": "stdout",
     "output_type": "stream",
     "text": [
      "(284807, 30)\n",
      "(227845, 30)\n",
      "(56962, 30)\n"
     ]
    }
   ],
   "source": [
    "print(x_scaled.shape)\n",
    "x_train, x_test, y_train, y_test = train_test_split(x_scaled, y_scaled, train_size = 0.80, random_state = 100)\n",
    "print(x_train.shape)\n",
    "print(x_test.shape)"
   ]
  },
  {
   "cell_type": "markdown",
   "id": "d6aac521-bc72-413a-acb9-c259e9934e9f",
   "metadata": {},
   "source": [
    "<h3>Logistic Regression</h3>"
   ]
  },
  {
   "cell_type": "code",
   "execution_count": 61,
   "id": "2ec948e8-1b1c-48b0-8587-5d70db4471d8",
   "metadata": {},
   "outputs": [],
   "source": [
    "def logic_regression(x_train, y_train, x_test):\n",
    "    lr = LogisticRegression()\n",
    "    lr.fit(x_train, y_train)\n",
    "    \n",
    "    y_train_predicted = lr.predict(x_train)\n",
    "    y_train_summary = classification_report(y_train, y_train_predicted, target_names = ['NON-FRAUDULENT', 'FRAUDULENT'])\n",
    "    \n",
    "    print(\".\"*140)\n",
    "    print(\"TRAIN MODEL CLASSIFICATION SUMMARY\")\n",
    "    print(\".\"*140)\n",
    "    \n",
    "    print(y_train_summary)\n",
    "    y_test_predicted = lr.predict(x_test)\n",
    "    y_test_summary = classification_report(y_test, y_test_predicted, target_names = ['NON-FRAUDULENT', 'FRAUDULENT'])\n",
    "    \n",
    "    print(\".\"*140)\n",
    "    print(\"TEST MODEL CLASSIFICATION SUMMARY\")\n",
    "    print(\".\"*140)\n",
    "    \n",
    "    print(y_test_summary)\n",
    "    \n",
    "    print(\".\"*140)\n",
    "    return y_test_predicted, lr"
   ]
  },
  {
   "cell_type": "code",
   "execution_count": 62,
   "id": "08bb90a7-84aa-4175-83ae-226a002a24d3",
   "metadata": {},
   "outputs": [
    {
     "name": "stdout",
     "output_type": "stream",
     "text": [
      "............................................................................................................................................\n",
      "TRAIN MODEL CLASSIFICATION SUMMARY\n",
      "............................................................................................................................................\n",
      "                precision    recall  f1-score   support\n",
      "\n",
      "NON-FRAUDULENT       1.00      1.00      1.00    227449\n",
      "    FRAUDULENT       0.91      0.68      0.78       396\n",
      "\n",
      "      accuracy                           1.00    227845\n",
      "     macro avg       0.96      0.84      0.89    227845\n",
      "  weighted avg       1.00      1.00      1.00    227845\n",
      "\n",
      "............................................................................................................................................\n",
      "TEST MODEL CLASSIFICATION SUMMARY\n",
      "............................................................................................................................................\n",
      "                precision    recall  f1-score   support\n",
      "\n",
      "NON-FRAUDULENT       1.00      1.00      1.00     56866\n",
      "    FRAUDULENT       0.76      0.60      0.67        96\n",
      "\n",
      "      accuracy                           1.00     56962\n",
      "     macro avg       0.88      0.80      0.84     56962\n",
      "  weighted avg       1.00      1.00      1.00     56962\n",
      "\n",
      "............................................................................................................................................\n"
     ]
    }
   ],
   "source": [
    "y_test_predicted, lr = logic_regression(x_train, y_train, x_test)"
   ]
  },
  {
   "cell_type": "markdown",
   "id": "4a891171-1357-4e14-bd0d-bf72cc57a206",
   "metadata": {},
   "source": [
    "<p>To have a more visual understanding of this information, we can use a confusion-matrix as plotted below:</p>"
   ]
  },
  {
   "cell_type": "code",
   "execution_count": 63,
   "id": "dd6720c5-b621-4aa5-9e3c-d8ba7e361615",
   "metadata": {},
   "outputs": [],
   "source": [
    "def confusion(y_test, y_test_pred):\n",
    "  matrix = confusion_matrix(y_test, y_test_pred)\n",
    "  labels = ['NON-FRAUDULENT', 'FRAUDULENT']\n",
    "  sns.heatmap(matrix, annot=True, fmt='d', xticklabels=labels, yticklabels=labels)\n",
    "  plt.xlabel('Predicted')\n",
    "  plt.ylabel('Actual')\n",
    "  plt.show()"
   ]
  },
  {
   "cell_type": "code",
   "execution_count": 64,
   "id": "290925c9-4bec-42e1-b3ff-65f03d6cc6d6",
   "metadata": {},
   "outputs": [
    {
     "data": {
      "image/png": "[encoded data removed]",
      "text/plain": [
       "<Figure size 640x480 with 2 Axes>"
      ]
     },
     "metadata": {},
     "output_type": "display_data"
    }
   ],
   "source": [
    "confusion(y_test, y_test_predicted)"
   ]
  },
  {
   "cell_type": "markdown",
   "id": "e6621a6e-90da-4a85-9589-b876719b961a",
   "metadata": {},
   "source": [
    "<h3>Random Over_Sampling</h3>"
   ]
  },
  {
   "cell_type": "markdown",
   "id": "7a2178b7-ab0c-4b69-a2b4-a35a6bc4c679",
   "metadata": {},
   "source": [
    "However, in the df dataset, there is an unbalance in the distribution of fraudulent transactions and non-fraudulent transactions.\n",
    "In order to check the accuracy of our machine learning model fairly, we should resample the dataset."
   ]
  },
  {
   "cell_type": "code",
   "execution_count": 87,
   "id": "3d24fb59-553c-4a12-8e8e-5e4d38b6cba5",
   "metadata": {},
   "outputs": [
    {
     "name": "stdout",
     "output_type": "stream",
     "text": [
      "(284315, 31)\n",
      "(284315, 31)\n"
     ]
    }
   ],
   "source": [
    "df_0 = df[df['Class'] == 0].sample(n = 284315, random_state = 99, replace = True)\n",
    "df_1 = df[df['Class'] == 1].sample(n = 284315, random_state = 99, replace = True)\n",
    "\n",
    "print(df_0.shape)\n",
    "print(df_1.shape)"
   ]
  },
  {
   "cell_type": "markdown",
   "id": "cee6875c-6263-4094-bf03-fae417689830",
   "metadata": {},
   "source": [
    "<h3>Train_Test Split for the resample dataset</h3>"
   ]
  },
  {
   "cell_type": "code",
   "execution_count": 88,
   "id": "880b7aa5-a145-4eae-89d8-ddc77fe4b1ff",
   "metadata": {},
   "outputs": [],
   "source": [
    "df_overall = pd.concat([df_0, df_1], ignore_index=True)"
   ]
  },
  {
   "cell_type": "code",
   "execution_count": 89,
   "id": "d22ebfc5-2e1e-40fc-a30b-62b32dfa3c32",
   "metadata": {},
   "outputs": [
    {
     "name": "stdout",
     "output_type": "stream",
     "text": [
      "(568630, 30)\n",
      "0         0\n",
      "1         0\n",
      "2         0\n",
      "3         0\n",
      "4         0\n",
      "         ..\n",
      "568625    1\n",
      "568626    1\n",
      "568627    1\n",
      "568628    1\n",
      "568629    1\n",
      "Name: Class, Length: 568630, dtype: int64\n"
     ]
    }
   ],
   "source": [
    "dummy_x_sample = df_overall.drop('Class', axis=1)\n",
    "y_sample = df_overall['Class']\n",
    "print(dummy_x_sample.shape)\n",
    "print(y_sample)"
   ]
  },
  {
   "cell_type": "code",
   "execution_count": 90,
   "id": "332174c7-0eb4-49de-9de7-8e1087054238",
   "metadata": {},
   "outputs": [
    {
     "name": "stdout",
     "output_type": "stream",
     "text": [
      "(454904, 30)\n",
      "(113726, 30)\n"
     ]
    }
   ],
   "source": [
    "x_sample = scaler.fit_transform(dummy_x_sample)\n",
    "x_train_sample, x_test_sample, y_train_sample, y_test_sample = train_test_split(x_sample,y_sample, train_size=0.80, random_state=99)\n",
    "print(x_train_sample.shape)\n",
    "print(x_test_sample.shape)"
   ]
  },
  {
   "cell_type": "markdown",
   "id": "27bcad32-2c00-482d-9ba2-908321033915",
   "metadata": {},
   "source": [
    "<h3>Logistic Regression for the resample dataset</h3>"
   ]
  },
  {
   "cell_type": "code",
   "execution_count": 98,
   "id": "b29a5244-9478-4323-9529-5b4759ae2d8d",
   "metadata": {},
   "outputs": [
    {
     "name": "stderr",
     "output_type": "stream",
     "text": [
      "/Users/arkdutt/miniforge3/lib/python3.10/site-packages/sklearn/linear_model/_logistic.py:460: ConvergenceWarning: lbfgs failed to converge (status=1):\n",
      "STOP: TOTAL NO. of ITERATIONS REACHED LIMIT.\n",
      "\n",
      "Increase the number of iterations (max_iter) or scale the data as shown in:\n",
      "    https://scikit-learn.org/stable/modules/preprocessing.html\n",
      "Please also refer to the documentation for alternative solver options:\n",
      "    https://scikit-learn.org/stable/modules/linear_model.html#logistic-regression\n",
      "  n_iter_i = _check_optimize_result(\n"
     ]
    }
   ],
   "source": [
    "lr_sample = LogisticRegression()\n",
    "lr_sample.fit(x_train_sample,y_train_sample)\n",
    "sample_train_predicted = lr_sample.predict(x_train_sample)\n",
    "sample_test_predicted = lr_sample.predict(x_test_sample)"
   ]
  },
  {
   "cell_type": "code",
   "execution_count": 99,
   "id": "3f05f0f1-176c-4164-80e6-94e120a1da69",
   "metadata": {},
   "outputs": [
    {
     "name": "stdout",
     "output_type": "stream",
     "text": [
      "              precision    recall  f1-score   support\n",
      "\n",
      "           0       0.93      0.98      0.95    227817\n",
      "           1       0.98      0.92      0.95    227087\n",
      "\n",
      "    accuracy                           0.95    454904\n",
      "   macro avg       0.95      0.95      0.95    454904\n",
      "weighted avg       0.95      0.95      0.95    454904\n",
      "\n",
      "              precision    recall  f1-score   support\n",
      "\n",
      "           0       0.93      0.98      0.95     56498\n",
      "           1       0.98      0.92      0.95     57228\n",
      "\n",
      "    accuracy                           0.95    113726\n",
      "   macro avg       0.95      0.95      0.95    113726\n",
      "weighted avg       0.95      0.95      0.95    113726\n",
      "\n"
     ]
    }
   ],
   "source": [
    "y_train_summary_sample = classification_report(y_train_sample,sample_train_predicted)\n",
    "print(y_train_summary_sample)\n",
    "y_test_summary_sample = classification_report(y_test_sample,sample_test_predicted)\n",
    "print(y_test_summary_sample)"
   ]
  },
  {
   "cell_type": "code",
   "execution_count": 96,
   "id": "451ccbd1-9d9c-47de-b43b-0388128e6f6c",
   "metadata": {},
   "outputs": [
    {
     "data": {
      "image/png": "[encoded data removed]",
      "text/plain": [
       "<Figure size 640x480 with 2 Axes>"
      ]
     },
     "metadata": {},
     "output_type": "display_data"
    }
   ],
   "source": [
    "confusion(y_train_sample,sample_train_predicted)"
   ]
  },
  {
   "cell_type": "code",
   "execution_count": 97,
   "id": "4f6a86ec-a820-4356-864e-d0503b0b8253",
   "metadata": {},
   "outputs": [
    {
     "data": {
      "image/png": "[encoded data removed]",
      "text/plain": [
       "<Figure size 640x480 with 2 Axes>"
      ]
     },
     "metadata": {},
     "output_type": "display_data"
    }
   ],
   "source": [
    "confusion(y_test_sample,sample_test_predicted)"
   ]
  },
  {
   "cell_type": "markdown",
   "id": "fbcddc8b-17a4-4519-aa1e-8f86e8b4cacd",
   "metadata": {},
   "source": [
    "<p>In conclusion, the logistic regression model achieves high precision, recall, and f-1 scores for classification models of both the classes. The precision of non-fraudulent transactions was 0.93, however, the precision of fraudulent transaction was 0.98. Moreover, the recall of non-fraudulent transactions was 0.98, however, the recall of fraudulent transactions was 0.92. This shows that the model is able to predict both positive and negative datapoints. The F-1 scores are 0.95 for both classes showing the predictive skill of a model by elaborating on its class-wise performance. It also suggest that there is a good balance between precision and recall metrics of the model.</p>"
   ]
  },
  {
   "cell_type": "code",
   "execution_count": null,
   "id": "eab2ba77-ca3a-4654-99d5-95c7cfc1e8e2",
   "metadata": {},
   "outputs": [],
   "source": []
  }
 ],
 "metadata": {
  "kernelspec": {
   "display_name": "Python 3 (ipykernel)",
   "language": "python",
   "name": "python3"
  },
  "language_info": {
   "codemirror_mode": {
    "name": "ipython",
    "version": 3
   },
   "file_extension": ".py",
   "mimetype": "text/x-python",
   "name": "python",
   "nbconvert_exporter": "python",
   "pygments_lexer": "ipython3",
   "version": "3.10.12"
  }
 },
 "nbformat": 4,
 "nbformat_minor": 5
}
